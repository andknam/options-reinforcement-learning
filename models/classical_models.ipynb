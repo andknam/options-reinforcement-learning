{
 "cells": [
  {
   "cell_type": "code",
   "execution_count": 113,
   "id": "8714a5c1",
   "metadata": {},
   "outputs": [],
   "source": [
    "import numpy as np \n",
    "import pandas as pd\n",
    "\n",
    "from sklearn.linear_model import LogisticRegression\n",
    "from sklearn.preprocessing import StandardScaler\n",
    "from sklearn.model_selection import train_test_split\n",
    "    \n",
    "from sklearn.svm import SVC "
   ]
  },
  {
   "cell_type": "markdown",
   "id": "2adf3705",
   "metadata": {},
   "source": [
    "# Train/Test Preparation"
   ]
  },
  {
   "cell_type": "code",
   "execution_count": 423,
   "id": "95d2fafd",
   "metadata": {},
   "outputs": [
    {
     "data": {
      "text/html": [
       "<div>\n",
       "<style scoped>\n",
       "    .dataframe tbody tr th:only-of-type {\n",
       "        vertical-align: middle;\n",
       "    }\n",
       "\n",
       "    .dataframe tbody tr th {\n",
       "        vertical-align: top;\n",
       "    }\n",
       "\n",
       "    .dataframe thead th {\n",
       "        text-align: right;\n",
       "    }\n",
       "</style>\n",
       "<table border=\"1\" class=\"dataframe\">\n",
       "  <thead>\n",
       "    <tr style=\"text-align: right;\">\n",
       "      <th></th>\n",
       "      <th>Strike</th>\n",
       "      <th>Implied Volatility</th>\n",
       "      <th>Mark</th>\n",
       "      <th>Success</th>\n",
       "    </tr>\n",
       "  </thead>\n",
       "  <tbody>\n",
       "    <tr>\n",
       "      <th>279</th>\n",
       "      <td>1400.0</td>\n",
       "      <td>2.266667</td>\n",
       "      <td>1362.750</td>\n",
       "      <td>1</td>\n",
       "    </tr>\n",
       "    <tr>\n",
       "      <th>280</th>\n",
       "      <td>1500.0</td>\n",
       "      <td>2.443272</td>\n",
       "      <td>1276.100</td>\n",
       "      <td>1</td>\n",
       "    </tr>\n",
       "    <tr>\n",
       "      <th>281</th>\n",
       "      <td>1520.0</td>\n",
       "      <td>1.964539</td>\n",
       "      <td>1241.225</td>\n",
       "      <td>1</td>\n",
       "    </tr>\n",
       "    <tr>\n",
       "      <th>282</th>\n",
       "      <td>1540.0</td>\n",
       "      <td>4.417332</td>\n",
       "      <td>1388.200</td>\n",
       "      <td>1</td>\n",
       "    </tr>\n",
       "    <tr>\n",
       "      <th>283</th>\n",
       "      <td>1560.0</td>\n",
       "      <td>2.245610</td>\n",
       "      <td>1213.350</td>\n",
       "      <td>1</td>\n",
       "    </tr>\n",
       "    <tr>\n",
       "      <th>...</th>\n",
       "      <td>...</td>\n",
       "      <td>...</td>\n",
       "      <td>...</td>\n",
       "      <td>...</td>\n",
       "    </tr>\n",
       "    <tr>\n",
       "      <th>208426</th>\n",
       "      <td>5100.0</td>\n",
       "      <td>4.253423</td>\n",
       "      <td>1872.500</td>\n",
       "      <td>0</td>\n",
       "    </tr>\n",
       "    <tr>\n",
       "      <th>208427</th>\n",
       "      <td>5200.0</td>\n",
       "      <td>9.376469</td>\n",
       "      <td>2147.800</td>\n",
       "      <td>0</td>\n",
       "    </tr>\n",
       "    <tr>\n",
       "      <th>208428</th>\n",
       "      <td>5300.0</td>\n",
       "      <td>8.001653</td>\n",
       "      <td>2173.475</td>\n",
       "      <td>0</td>\n",
       "    </tr>\n",
       "    <tr>\n",
       "      <th>208429</th>\n",
       "      <td>5400.0</td>\n",
       "      <td>4.681645</td>\n",
       "      <td>2172.500</td>\n",
       "      <td>0</td>\n",
       "    </tr>\n",
       "    <tr>\n",
       "      <th>208430</th>\n",
       "      <td>5500.0</td>\n",
       "      <td>0.000010</td>\n",
       "      <td>2257.775</td>\n",
       "      <td>0</td>\n",
       "    </tr>\n",
       "  </tbody>\n",
       "</table>\n",
       "<p>10590 rows × 4 columns</p>\n",
       "</div>"
      ],
      "text/plain": [
       "        Strike  Implied Volatility      Mark   Success\n",
       "279     1400.0            2.266667  1362.750         1\n",
       "280     1500.0            2.443272  1276.100         1\n",
       "281     1520.0            1.964539  1241.225         1\n",
       "282     1540.0            4.417332  1388.200         1\n",
       "283     1560.0            2.245610  1213.350         1\n",
       "...        ...                 ...       ...       ...\n",
       "208426  5100.0            4.253423  1872.500         0\n",
       "208427  5200.0            9.376469  2147.800         0\n",
       "208428  5300.0            8.001653  2173.475         0\n",
       "208429  5400.0            4.681645  2172.500         0\n",
       "208430  5500.0            0.000010  2257.775         0\n",
       "\n",
       "[10590 rows x 4 columns]"
      ]
     },
     "execution_count": 423,
     "metadata": {},
     "output_type": "execute_result"
    }
   ],
   "source": [
    "# Scraped yahoo data\n",
    "options_data_3_18_df = pd.read_csv('yahooData/results/finalData_18.csv', delimiter=',')\n",
    "\n",
    "# add a new column for the difference of the date to expiration date\n",
    "options_data_3_18_df['Record Time'] = pd.to_datetime(options_data_3_18_df['Record Time'])\n",
    "options_data_3_18_df['Expiration Date'] = pd.to_datetime(options_data_3_18_df['Expiration Date'])\n",
    "options_data_3_18_df['DaysToExpiration'] = options_data_3_18_df['Expiration Date'] - options_data_3_18_df['Record Time']\n",
    "options_data_3_18_df['DaysToExpiration'] = options_data_3_18_df['DaysToExpiration'].dt.days + 1\n",
    "\n",
    "# Let's take a look at amzn calls and puts\n",
    "amzn_options_data_3_18_df = options_data_3_18_df[options_data_3_18_df.Symbol=='AMZN']\n",
    "# amzn_options_data_3_18_df = amzn_options_data_3_18_df[amzn_options_data_3_18_df.Call==True]\n",
    "amzn_options_data_3_18_df = amzn_options_data_3_18_df.drop(columns=['Symbol','Expiration Date', 'Sector', 'Industry', 'Record Time', 'Profit', 'Current Price', 'Call', \n",
    "                                                                    'In the Money', 'DaysToExpiration'])\n",
    "# amzn_options_data_3_18_df = amzn_options_data_3_18_df.replace({'In the Money': {'True':1,'False':0}})\n",
    "# amzn_options_data_3_18_df = amzn_options_data_3_18_df.replace({'Call': {True:1,False:0}})\n",
    "amzn_options_data_3_18_df"
   ]
  },
  {
   "cell_type": "code",
   "execution_count": 424,
   "id": "e7364df9",
   "metadata": {},
   "outputs": [
    {
     "data": {
      "text/plain": [
       "279       1\n",
       "280       1\n",
       "281       1\n",
       "282       1\n",
       "283       1\n",
       "         ..\n",
       "208426    0\n",
       "208427    0\n",
       "208428    0\n",
       "208429    0\n",
       "208430    0\n",
       "Name:  Success, Length: 10590, dtype: int64"
      ]
     },
     "execution_count": 424,
     "metadata": {},
     "output_type": "execute_result"
    }
   ],
   "source": [
    "# \"Success\" col is actually \" Success\"\n",
    "X = amzn_options_data_3_18_df[amzn_options_data_3_18_df.columns.difference([' Success'], sort=False)]\n",
    "y = amzn_options_data_3_18_df[amzn_options_data_3_18_df.columns[-1]] # \" Success\" column\n",
    "y"
   ]
  },
  {
   "cell_type": "code",
   "execution_count": 425,
   "id": "2f2f0751",
   "metadata": {},
   "outputs": [
    {
     "name": "stdout",
     "output_type": "stream",
     "text": [
      "[[ 0.62977211 -0.37585241 -0.63472586]\n",
      " [ 0.58097694  0.41027739 -0.01789047]\n",
      " [ 0.19061562 -0.45826189 -0.61248694]\n",
      " ...\n",
      " [ 0.01373314 -0.48025137 -0.48858726]\n",
      " [ 1.45928993 -0.72572229  0.84244489]\n",
      " [ 2.13022345 -0.72572229  2.91067501]] 20596     0\n",
      "183165    0\n",
      "146664    1\n",
      "613       1\n",
      "31716     1\n",
      "         ..\n",
      "118248    1\n",
      "107157    0\n",
      "107356    1\n",
      "12020     0\n",
      "147047    0\n",
      "Name:  Success, Length: 8472, dtype: int64\n"
     ]
    }
   ],
   "source": [
    "# feature scaling\n",
    "scaler = StandardScaler()\n",
    "X_scaled = scaler.fit_transform(X)\n",
    "\n",
    "# 80/20 train/test split\n",
    "X_train, X_test, y_train, y_test = train_test_split(X_scaled, y, test_size=0.20, random_state=42)\n",
    "print(X_train, y_train)"
   ]
  },
  {
   "cell_type": "markdown",
   "id": "33694338",
   "metadata": {},
   "source": [
    "# Logistic Regression"
   ]
  },
  {
   "cell_type": "code",
   "execution_count": 426,
   "id": "1b321b77",
   "metadata": {},
   "outputs": [
    {
     "data": {
      "text/plain": [
       "0.9910292728989613"
      ]
     },
     "execution_count": 426,
     "metadata": {},
     "output_type": "execute_result"
    }
   ],
   "source": [
    "log_reg_model = LogisticRegression()\n",
    "log_reg_model.fit(X_train, y_train)\n",
    "log_reg_model.score(X_test, y_test)"
   ]
  },
  {
   "cell_type": "markdown",
   "id": "c6d6ca0a",
   "metadata": {},
   "source": [
    "**classification --> will our option be profitable-- yes or no?** \\\n",
    "seems pretty high...but our options are also priced 9 days out for now, so maybe thats why?\n",
    "\n",
    "with just: Strike  Current Price  Implied Volatility  Call   Success  DaysToExpiration  \n",
    "- acc: 0.9480642115203022\n",
    "- adding in the mark boosts this to: 0.9905571293673276\n",
    "- adding \"in the money\" decreases to: 0.9768649669499528\n",
    "    \n",
    "with just: Strike  Current Price  In the Money  Call   Success  DaysToExpiration\n",
    "- acc: 0.8319169027384324\n",
    "- from there add 'Implied Volatility': 0.9768649669499528\n",
    "    \n",
    "log_reg_model.coef_\n",
    "- array([[-17.8157179 ,  -0.43907748,  -3.35907594,  -0.53774606, 0.05101503,  -7.44636698,  -0.42466597]])\n",
    "- what is important: strike, implied volatility, mark\n",
    "\n",
    "strike, implied volatility, mark\n",
    "0.9910292728989613\n",
    "\n",
    "strike, implied volatility\n",
    "0.9362606232294618\n",
    "\n",
    "implied volatility, mark\n",
    "0.6350330500472143\n",
    "\n",
    "strike, mark\n",
    "1.0\n",
    "\n",
    "ONLY implied volatility \n",
    "0.6180358829084042\n",
    "\n",
    "ONLY mark\n",
    "0.6274787535410765\n",
    "\n",
    "ONLY strike\n",
    "0.8550519357884797"
   ]
  },
  {
   "cell_type": "markdown",
   "id": "27c77ad1",
   "metadata": {},
   "source": [
    "# Support Vector Machine (SVM)"
   ]
  },
  {
   "cell_type": "code",
   "execution_count": 427,
   "id": "1599a9d1",
   "metadata": {},
   "outputs": [
    {
     "data": {
      "text/plain": [
       "0.9943342776203966"
      ]
     },
     "execution_count": 427,
     "metadata": {},
     "output_type": "execute_result"
    }
   ],
   "source": [
    "SVM_model = SVC(gamma='auto')\n",
    "SVM_model.fit(X_train, y_train)\n",
    "SVM_model.score(X_test, y_test)"
   ]
  },
  {
   "cell_type": "markdown",
   "id": "edca04ff",
   "metadata": {},
   "source": [
    "with just: Strike  Current Price  Implied Volatility  Call   Success  DaysToExpiration  \n",
    "- acc: 0.9853635505193579\n",
    "- adding in the mark boosts this to: 0.9891406987724268\n",
    "- adding \"in the money\" decreases to: 0.9858356940509915\n",
    "    \n",
    "with just: Strike  Current Price  In the Money  Call   Success  DaysToExpiration\n",
    "- acc: 0.8937677053824362\n",
    "- from there add 'Implied Volatility': 0.9858356940509915\n",
    "\n",
    "strike, implied volatility, mark\n",
    "0.9943342776203966\n",
    "\n",
    "strike, implied volatility\n",
    "0.9551463644948064\n",
    "\n",
    "implied volatility, mark\n",
    "0.7214353163361662\n",
    "\n",
    "strike, mark\n",
    "0.9886685552407932\n",
    "\n",
    "ONLY implied volatility\n",
    "0.6558073654390935\n",
    "\n",
    "ONLY mark\n",
    "0.6968838526912181\n",
    "\n",
    "ONLY strike\n",
    "0.8654390934844193"
   ]
  },
  {
   "cell_type": "markdown",
   "id": "a934976c",
   "metadata": {},
   "source": [
    "# Conclusions?"
   ]
  },
  {
   "cell_type": "markdown",
   "id": "8e9663dd",
   "metadata": {},
   "source": [
    "- strike price alone does pretty well (this is the MOST important) --> duh\n",
    "- strike + mark = basically 100% \n",
    "- strike + mark + implied volatility actually does a little worse than just strike + mark (sometimes)\n",
    "  - generally, strike + mark + implied volatility seems to do pretty well\n",
    "- doesnt matter if its a call or put --> no difference in performance (pretty interesting)"
   ]
  },
  {
   "cell_type": "code",
   "execution_count": 307,
   "id": "49e74124",
   "metadata": {},
   "outputs": [
    {
     "data": {
      "text/plain": [
       "<AxesSubplot:>"
      ]
     },
     "execution_count": 307,
     "metadata": {},
     "output_type": "execute_result"
    },
    {
     "data": {
      "image/png": "[encoded data removed]",
      "text/plain": [
       "<Figure size 432x288 with 2 Axes>"
      ]
     },
     "metadata": {
      "needs_background": "light"
     },
     "output_type": "display_data"
    }
   ],
   "source": [
    "import seaborn as sns   \n",
    "sns.heatmap(amzn_options_data_3_18_df.corr(),annot= True)"
   ]
  }
 ],
 "metadata": {
  "kernelspec": {
   "display_name": "Python 3 (ipykernel)",
   "language": "python",
   "name": "python3"
  },
  "language_info": {
   "codemirror_mode": {
    "name": "ipython",
    "version": 3
   },
   "file_extension": ".py",
   "mimetype": "text/x-python",
   "name": "python",
   "nbconvert_exporter": "python",
   "pygments_lexer": "ipython3",
   "version": "3.8.5"
  }
 },
 "nbformat": 4,
 "nbformat_minor": 5
}
