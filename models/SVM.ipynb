{
 "cells": [
  {
   "cell_type": "code",
   "execution_count": 1,
   "metadata": {},
   "outputs": [],
   "source": [
    "import pandas as pd\n",
    "import numpy as np\n",
    "import mibian\n",
    "import time\n",
    "import datetime"
   ]
  },
  {
   "cell_type": "code",
   "execution_count": 17,
   "metadata": {},
   "outputs": [],
   "source": [
    "options1_df = pd.read_csv('../yahooData/results/finalData_3-11.csv', delimiter=',', engine='python')\n",
    "options2_df = pd.read_csv('../yahooData/results/finalData_3-18.csv', delimiter=',', engine='python', encoding= 'unicode_escape')\n",
    "options3_df = pd.read_csv('../yahooData/results/finalData_3-25.csv', delimiter=',', engine='python', encoding= 'unicode_escape')\n",
    "options4_df = pd.read_csv('../yahooData/results/finalData_4-01.csv', delimiter=',', engine='python', encoding= 'unicode_escape')\n",
    "options5_df = pd.read_csv('../yahooData/results/finalData_4-08.csv', delimiter=',', engine='python', encoding= 'unicode_escape')\n",
    "options6_df = pd.read_csv('../yahooData/results/finalData_4-15.csv', delimiter=',', engine='python', encoding= 'unicode_escape')\n",
    "options7_df = pd.read_csv('../yahooData/results/finalData_4-22.csv', delimiter=',', engine='python', encoding= 'unicode_escape')\n"
   ]
  },
  {
   "cell_type": "code",
   "execution_count": 18,
   "metadata": {},
   "outputs": [],
   "source": [
    "def process_data(df, symbol, sector, call):\n",
    "    # Let's take a look at appl calls and puts\n",
    "    symbol_df = df[df.Sector==symbol] if sector else df[df.Symbol==symbol] \n",
    "    symbol_df = symbol_df[symbol_df['Call'] == 1] if call else symbol_df[symbol_df['Call'] == 0]\n",
    "    symbol_df.columns = symbol_df.columns.str.strip()\n",
    "\n",
    "    symbol_df = symbol_df.replace({'In the Money': {'True':1, 'False':0}})\n",
    "    symbol_df = symbol_df.replace({'In the Money': {True:1, False:0}})\n",
    "    symbol_df = symbol_df.replace({'Call': {True:1,False:0}})\n",
    "\n",
    "    # columns to drop for our input feature vector\n",
    "    columns = ['Symbol','Expiration Date', 'Sector', 'Industry', 'Record Time', 'Profit', 'Call']\n",
    "    symbol_df = symbol_df.drop(columns=columns)\n",
    "    \n",
    "    failed_len = len(symbol_df[symbol_df['Success'] == 0])\n",
    "    \n",
    "    count = len(symbol_df[symbol_df['Success'] == 1])\n",
    "    if count < failed_len:\n",
    "        count_failed = count * 3 if failed_len > count * 3 else count * 2\n",
    "        count_failed = count_failed if failed_len > count_failed else count\n",
    "    else:\n",
    "        count_failed = failed_len\n",
    "    \n",
    "    failed_df = symbol_df.loc[symbol_df['Success'] == 0].sample(n=count_failed,random_state=42)\n",
    "    success_df = symbol_df.loc[symbol_df['Success'] == 1]\n",
    "    \n",
    "    return pd.concat([failed_df, success_df])"
   ]
  },
  {
   "cell_type": "code",
   "execution_count": 19,
   "metadata": {},
   "outputs": [
    {
     "name": "stdout",
     "output_type": "stream",
     "text": [
      "(18835, 18) (70267, 18) (38263, 18) (51372, 18) (57275, 18) (150491, 18) (31149, 18)\n",
      "(100, 11) (7176, 11) (3510, 11) (3792, 11) (884, 11) (1796, 11) (252, 11)\n",
      "(1860, 11) (6728, 11) (844, 11) (5052, 11) (5604, 11) (16040, 11) (3044, 11)\n"
     ]
    }
   ],
   "source": [
    "print(options1_df.shape, options2_df.shape, options3_df.shape, options4_df.shape, options5_df.shape, options6_df.shape, options7_df.shape)\n",
    "options1c_df = process_data(options1_df, 'Technology', True, True)\n",
    "options2c_df = process_data(options2_df, 'Technology', True, True)\n",
    "options3c_df = process_data(options3_df, 'Technology', True, True)\n",
    "options4c_df = process_data(options4_df, 'Technology', True, True)\n",
    "options5c_df = process_data(options5_df, 'Technology', True, True)\n",
    "options6c_df = process_data(options6_df, 'Technology', True, True)\n",
    "options7c_df = process_data(options7_df, 'Technology', True, True)\n",
    "\n",
    "calls_df = pd.concat([options1c_df, options2c_df, options3c_df, options4c_df, options5c_df])\n",
    "options7call_df = pd.concat([options6c_df, options7c_df])\n",
    "\n",
    "print(options1c_df.shape, options2c_df.shape, options3c_df.shape, options4c_df.shape, options5c_df.shape, options6c_df.shape, options7c_df.shape)\n",
    "\n",
    "options1p_df = process_data(options1_df, 'Technology', True, False)\n",
    "options2p_df = process_data(options2_df, 'Technology', True, False)\n",
    "options3p_df = process_data(options3_df, 'Technology', True, False)\n",
    "options4p_df = process_data(options4_df, 'Technology', True, False)\n",
    "options5p_df = process_data(options5_df, 'Technology', True, False)\n",
    "options6p_df = process_data(options6_df, 'Technology', True, False)\n",
    "options7p_df = process_data(options7_df, 'Technology', True, False)\n",
    "\n",
    "puts_df = pd.concat([options1p_df, options2p_df, options3p_df, options4p_df, options5p_df])\n",
    "options7put_df = pd.concat([options6p_df, options7p_df])\n",
    "\n",
    "print(options1p_df.shape, options2p_df.shape, options3p_df.shape, options4p_df.shape, options5p_df.shape, options6p_df.shape, options7p_df.shape)\n",
    "\n"
   ]
  },
  {
   "cell_type": "code",
   "execution_count": 11,
   "metadata": {},
   "outputs": [
    {
     "name": "stdout",
     "output_type": "stream",
     "text": [
      "Index(['Strike', 'Current Price', 'Implied Volatility', 'Volume',\n",
      "       'In the Money', 'Mark', 'Days to Expire', 'Breakeven Price',\n",
      "       'Final Price', 'Needed Percent Change', 'Success'],\n",
      "      dtype='object')\n"
     ]
    }
   ],
   "source": [
    "# frames = [options1_df, options2_df, options3_df, options4_df, options5_df]\n",
    "\n",
    "# options_df = pd.concat(frames)\n",
    "\n",
    "# options7_df = pd.concat([options6_df, options7_df])"
   ]
  },
  {
   "cell_type": "code",
   "execution_count": 20,
   "metadata": {},
   "outputs": [],
   "source": [
    "def categorise(row):\n",
    "    return ((row['Final Price'] - row['Current Price']) / row['Current Price']) * 100\n",
    "\n",
    "calls_df['Actual Percent Change'] = calls_df.apply(lambda row: categorise(row), axis=1)\n",
    "options7call_df['Actual Percent Change'] = options7call_df.apply(lambda row: categorise(row), axis=1)\n",
    "\n",
    "puts_df['Actual Percent Change'] = puts_df.apply(lambda row: categorise(row), axis=1)\n",
    "options7put_df['Actual Percent Change'] = options7put_df.apply(lambda row: categorise(row), axis=1)"
   ]
  },
  {
   "cell_type": "code",
   "execution_count": 23,
   "metadata": {},
   "outputs": [],
   "source": [
    "def callDelta(row):\n",
    "    daysToExpire = row['Days to Expire'] if row['Days to Expire'] > 0 else 1/2\n",
    "    c = mibian.BS([row['Current Price'], row['Strike'], 0, daysToExpire], volatility = (row['Implied Volatility'] * 100))\n",
    "    return c.callDelta\n",
    "\n",
    "def callTheta(row):\n",
    "    daysToExpire = row['Days to Expire'] if row['Days to Expire'] > 0 else 1/2\n",
    "    c = mibian.BS([row['Current Price'], row['Strike'], 0, daysToExpire], volatility = (row['Implied Volatility'] * 100))\n",
    "    return c.callTheta\n",
    "\n",
    "def callRho(row):\n",
    "    daysToExpire = row['Days to Expire'] if row['Days to Expire'] > 0 else 1/2\n",
    "    c = mibian.BS([row['Current Price'], row['Strike'], 0, daysToExpire], volatility = (row['Implied Volatility'] * 100))\n",
    "    return c.callRho\n",
    "\n",
    "def callVega(row):\n",
    "    daysToExpire = row['Days to Expire'] if row['Days to Expire'] > 0 else 1/2\n",
    "    c = mibian.BS([row['Current Price'], row['Strike'], 0, daysToExpire], volatility = (row['Implied Volatility'] * 100))\n",
    "    return c.vega\n",
    "\n",
    "def callGamma(row):\n",
    "    daysToExpire = row['Days to Expire'] if row['Days to Expire'] > 0 else 1/2\n",
    "    c = mibian.BS([row['Current Price'], row['Strike'], 0, daysToExpire], volatility = (row['Implied Volatility'] * 100))\n",
    "    return c.gamma\n",
    "\n",
    "def putDelta(row):\n",
    "    daysToExpire = row['Days to Expire'] if row['Days to Expire'] > 0 else 1/2\n",
    "    c = mibian.BS([row['Current Price'], row['Strike'], 0, daysToExpire], volatility = (row['Implied Volatility'] * 100))\n",
    "    return c.putDelta\n",
    "\n",
    "def putTheta(row):\n",
    "    daysToExpire = row['Days to Expire'] if row['Days to Expire'] > 0 else 1/2\n",
    "    c = mibian.BS([row['Current Price'], row['Strike'], 0, daysToExpire], volatility = (row['Implied Volatility'] * 100))\n",
    "    return c.putTheta\n",
    "\n",
    "def putRho(row):\n",
    "    daysToExpire = row['Days to Expire'] if row['Days to Expire'] > 0 else 1/2\n",
    "    c = mibian.BS([row['Current Price'], row['Strike'], 0, daysToExpire], volatility = (row['Implied Volatility'] * 100))\n",
    "    return c.putRho\n",
    "\n",
    "def putVega(row):\n",
    "    daysToExpire = row['Days to Expire'] if row['Days to Expire'] > 0 else 1/2\n",
    "    c = mibian.BS([row['Current Price'], row['Strike'], 0, daysToExpire], volatility = (row['Implied Volatility'] * 100))\n",
    "    return c.vega\n",
    "\n",
    "def putGamma(row):\n",
    "    daysToExpire = row['Days to Expire'] if row['Days to Expire'] > 0 else 1/2\n",
    "    c = mibian.BS([row['Current Price'], row['Strike'], 0, daysToExpire], volatility = (row['Implied Volatility'] * 100))\n",
    "    return c.gamma"
   ]
  },
  {
   "cell_type": "code",
   "execution_count": 24,
   "metadata": {},
   "outputs": [
    {
     "name": "stdout",
     "output_type": "stream",
     "text": [
      "Took 0:05:48.735887 seconds\n"
     ]
    }
   ],
   "source": [
    "start_time = time.time()\n",
    "\n",
    "calls_df['Delta'] = calls_df.apply(lambda row: callDelta(row), axis=1)\n",
    "calls_df['Theta'] = calls_df.apply(lambda row: callTheta(row), axis=1)\n",
    "calls_df['Rho'] = calls_df.apply(lambda row: callRho(row), axis=1)\n",
    "calls_df['Vega'] = calls_df.apply(lambda row: callVega(row), axis=1)\n",
    "calls_df['Gamma'] = calls_df.apply(lambda row: callGamma(row), axis=1)\n",
    "\n",
    "options7call_df['Delta'] = options7call_df.apply(lambda row: callDelta(row), axis=1)\n",
    "options7call_df['Theta'] = options7call_df.apply(lambda row: callTheta(row), axis=1)\n",
    "options7call_df['Rho'] = options7call_df.apply(lambda row: callRho(row), axis=1)\n",
    "options7call_df['Vega'] = options7call_df.apply(lambda row: callVega(row), axis=1)\n",
    "options7call_df['Gamma'] = options7call_df.apply(lambda row: callGamma(row), axis=1)\n",
    "\n",
    "puts_df['Delta'] = puts_df.apply(lambda row: putDelta(row), axis=1)\n",
    "puts_df['Theta'] = puts_df.apply(lambda row: putTheta(row), axis=1)\n",
    "puts_df['Rho'] = puts_df.apply(lambda row: putRho(row), axis=1)\n",
    "puts_df['Vega'] = puts_df.apply(lambda row: putVega(row), axis=1)\n",
    "puts_df['Gamma'] = puts_df.apply(lambda row: putGamma(row), axis=1)\n",
    "\n",
    "options7put_df['Delta'] = options7put_df.apply(lambda row: putDelta(row), axis=1)\n",
    "options7put_df['Theta'] = options7put_df.apply(lambda row: putTheta(row), axis=1)\n",
    "options7put_df['Rho'] = options7put_df.apply(lambda row: putRho(row), axis=1)\n",
    "options7put_df['Vega'] = options7put_df.apply(lambda row: putVega(row), axis=1)\n",
    "options7put_df['Gamma'] = options7put_df.apply(lambda row: putGamma(row), axis=1)\n",
    "\n",
    "print(f\"Took {datetime.timedelta(seconds=(time.time() - start_time))} seconds\")"
   ]
  },
  {
   "cell_type": "code",
   "execution_count": 146,
   "metadata": {},
   "outputs": [
    {
     "name": "stdout",
     "output_type": "stream",
     "text": [
      "{'C': 100, 'gamma': 1e-05, 'kernel': 'rbf'} 0.7961467280833703\n",
      "Took 0:05:09.584583 seconds\n"
     ]
    }
   ],
   "source": [
    "from sklearn.model_selection import GridSearchCV\n",
    "from sklearn.svm import SVC \n",
    "from sklearn.metrics import confusion_matrix\n",
    "import seaborn as sns\n",
    "from sklearn.metrics import make_scorer, precision_score\n",
    "\n",
    "start_time = time.time()\n",
    "\n",
    "parameters = {'kernel':['rbf'], 'C':[100, 10, 1], 'gamma': [0.1, 0.001, 0.00001]}\n",
    "scoring = {'precision': make_scorer(precision_score, average = 'macro')}\n",
    "svc = SVC()\n",
    "clf = GridSearchCV(svc, parameters, scoring = scoring, refit='precision')\n",
    "clf.fit(calls_df.filter(['Implied Volatility', 'In the Money', 'Days to Expire', 'Needed Percent Change'], axis=1), calls_df.filter(['Success'], axis=1).values.ravel())\n",
    "\n",
    "print(clf.best_params_, clf.best_score_)\n",
    "\n",
    "print(f\"Took {datetime.timedelta(seconds=(time.time() - start_time))} seconds\")"
   ]
  },
  {
   "cell_type": "code",
   "execution_count": 126,
   "metadata": {},
   "outputs": [
    {
     "name": "stdout",
     "output_type": "stream",
     "text": [
      "{'C': 100, 'gamma': 1e-05, 'kernel': 'rbf'} 0.7704149449101688\n",
      "Took 0:11:47.021773 seconds\n"
     ]
    }
   ],
   "source": [
    "start_time = time.time()\n",
    "\n",
    "parameters = {'kernel':['rbf'], 'C':[100, 10, 1], 'gamma': [0.1, 0.001, 0.00001]}\n",
    "scoring = {'precision': make_scorer(precision_score, average = 'macro')}\n",
    "svc = SVC()\n",
    "clf = GridSearchCV(svc, parameters, scoring = scoring, refit='precision')\n",
    "clf.fit(puts_df.filter(['Implied Volatility', 'In the Money', 'Days to Expire', 'Needed Percent Change'], axis=1), puts_df.filter(['Success'], axis=1).values.ravel())\n",
    "\n",
    "print(clf.best_params_, clf.best_score_)\n",
    "\n",
    "print(f\"Took {datetime.timedelta(seconds=(time.time() - start_time))} seconds\")"
   ]
  },
  {
   "cell_type": "code",
   "execution_count": 128,
   "metadata": {},
   "outputs": [
    {
     "name": "stderr",
     "output_type": "stream",
     "text": [
      "/Users/dingew/opt/anaconda3/lib/python3.8/site-packages/sklearn/metrics/_classification.py:1318: UndefinedMetricWarning: Precision is ill-defined and being set to 0.0 in labels with no predicted samples. Use `zero_division` parameter to control this behavior.\n",
      "  _warn_prf(average, modifier, msg_start, len(result))\n",
      "/Users/dingew/opt/anaconda3/lib/python3.8/site-packages/sklearn/metrics/_classification.py:1318: UndefinedMetricWarning: Precision is ill-defined and being set to 0.0 in labels with no predicted samples. Use `zero_division` parameter to control this behavior.\n",
      "  _warn_prf(average, modifier, msg_start, len(result))\n",
      "/Users/dingew/opt/anaconda3/lib/python3.8/site-packages/sklearn/metrics/_classification.py:1318: UndefinedMetricWarning: Precision is ill-defined and being set to 0.0 in labels with no predicted samples. Use `zero_division` parameter to control this behavior.\n",
      "  _warn_prf(average, modifier, msg_start, len(result))\n",
      "/Users/dingew/opt/anaconda3/lib/python3.8/site-packages/sklearn/metrics/_classification.py:1318: UndefinedMetricWarning: Precision is ill-defined and being set to 0.0 in labels with no predicted samples. Use `zero_division` parameter to control this behavior.\n",
      "  _warn_prf(average, modifier, msg_start, len(result))\n",
      "/Users/dingew/opt/anaconda3/lib/python3.8/site-packages/sklearn/metrics/_classification.py:1318: UndefinedMetricWarning: Precision is ill-defined and being set to 0.0 in labels with no predicted samples. Use `zero_division` parameter to control this behavior.\n",
      "  _warn_prf(average, modifier, msg_start, len(result))\n"
     ]
    },
    {
     "name": "stdout",
     "output_type": "stream",
     "text": [
      "{'C': 100, 'gamma': 0.001, 'kernel': 'rbf'} 0.8079378783288057\n",
      "Took 0:04:05.573712 seconds\n"
     ]
    }
   ],
   "source": [
    "start_time = time.time()\n",
    "\n",
    "parameters = {'kernel':['rbf'], 'C':[100, 10], 'gamma': [0.1, 0.01, 0.001, 0.00001]}\n",
    "scoring = {'precision': make_scorer(precision_score, average = 'macro')}\n",
    "svc = SVC()\n",
    "clf = GridSearchCV(svc, parameters, scoring = scoring, refit='precision')\n",
    "clf.fit(calls_df.filter(['Delta', 'Theta', 'Rho', 'Vega', 'Gamma'], axis=1), calls_df.filter(['Success'], axis=1).values.ravel())\n",
    "\n",
    "print(clf.best_params_, clf.best_score_)\n",
    "\n",
    "print(f\"Took {datetime.timedelta(seconds=(time.time() - start_time))} seconds\")"
   ]
  },
  {
   "cell_type": "code",
   "execution_count": 112,
   "metadata": {},
   "outputs": [
    {
     "name": "stdout",
     "output_type": "stream",
     "text": [
      "Fitting 5 folds for each of 9 candidates, totalling 45 fits\n",
      "[CV 1/5] END .....C=100, gamma=0.01, kernel=rbf;, score=0.845 total time=  10.6s\n",
      "[CV 2/5] END .....C=100, gamma=0.01, kernel=rbf;, score=0.798 total time=  10.9s\n",
      "[CV 3/5] END .....C=100, gamma=0.01, kernel=rbf;, score=0.763 total time=  11.0s\n",
      "[CV 4/5] END .....C=100, gamma=0.01, kernel=rbf;, score=0.667 total time=  10.1s\n",
      "[CV 5/5] END .....C=100, gamma=0.01, kernel=rbf;, score=0.831 total time=  12.0s\n",
      "[CV 1/5] END ....C=100, gamma=0.001, kernel=rbf;, score=0.843 total time=  11.0s\n",
      "[CV 2/5] END ....C=100, gamma=0.001, kernel=rbf;, score=0.802 total time=  10.2s\n",
      "[CV 3/5] END ....C=100, gamma=0.001, kernel=rbf;, score=0.763 total time=  10.9s\n",
      "[CV 4/5] END ....C=100, gamma=0.001, kernel=rbf;, score=0.672 total time=   9.4s\n",
      "[CV 5/5] END ....C=100, gamma=0.001, kernel=rbf;, score=0.831 total time=  11.0s\n",
      "[CV 1/5] END ....C=100, gamma=1e-05, kernel=rbf;, score=0.831 total time=  12.3s\n",
      "[CV 2/5] END ....C=100, gamma=1e-05, kernel=rbf;, score=0.800 total time=  12.7s\n",
      "[CV 3/5] END ....C=100, gamma=1e-05, kernel=rbf;, score=0.758 total time=  12.1s\n",
      "[CV 4/5] END ....C=100, gamma=1e-05, kernel=rbf;, score=0.693 total time=  12.2s\n",
      "[CV 5/5] END ....C=100, gamma=1e-05, kernel=rbf;, score=0.814 total time=  13.2s\n",
      "[CV 1/5] END ......C=10, gamma=0.01, kernel=rbf;, score=0.845 total time=   9.9s\n",
      "[CV 2/5] END ......C=10, gamma=0.01, kernel=rbf;, score=0.801 total time=   9.9s\n",
      "[CV 3/5] END ......C=10, gamma=0.01, kernel=rbf;, score=0.764 total time=  10.2s\n",
      "[CV 4/5] END ......C=10, gamma=0.01, kernel=rbf;, score=0.671 total time=   9.0s\n",
      "[CV 5/5] END ......C=10, gamma=0.01, kernel=rbf;, score=0.832 total time=  10.4s\n",
      "[CV 1/5] END .....C=10, gamma=0.001, kernel=rbf;, score=0.839 total time=  10.3s\n",
      "[CV 2/5] END .....C=10, gamma=0.001, kernel=rbf;, score=0.802 total time=   9.9s\n",
      "[CV 3/5] END .....C=10, gamma=0.001, kernel=rbf;, score=0.762 total time=   9.9s\n",
      "[CV 4/5] END .....C=10, gamma=0.001, kernel=rbf;, score=0.682 total time=   9.1s\n",
      "[CV 5/5] END .....C=10, gamma=0.001, kernel=rbf;, score=0.824 total time=  10.5s\n",
      "[CV 1/5] END .....C=10, gamma=1e-05, kernel=rbf;, score=0.657 total time=  12.9s\n",
      "[CV 2/5] END .....C=10, gamma=1e-05, kernel=rbf;, score=0.657 total time=  12.9s\n",
      "[CV 3/5] END .....C=10, gamma=1e-05, kernel=rbf;, score=0.657 total time=  13.3s\n",
      "[CV 4/5] END .....C=10, gamma=1e-05, kernel=rbf;, score=0.657 total time=  12.7s\n",
      "[CV 5/5] END .....C=10, gamma=1e-05, kernel=rbf;, score=0.657 total time=  12.6s\n",
      "[CV 1/5] END .......C=1, gamma=0.01, kernel=rbf;, score=0.839 total time=  10.2s\n",
      "[CV 2/5] END .......C=1, gamma=0.01, kernel=rbf;, score=0.803 total time=  10.4s\n",
      "[CV 3/5] END .......C=1, gamma=0.01, kernel=rbf;, score=0.763 total time=  10.1s\n",
      "[CV 4/5] END .......C=1, gamma=0.01, kernel=rbf;, score=0.682 total time=   9.8s\n",
      "[CV 5/5] END .......C=1, gamma=0.01, kernel=rbf;, score=0.824 total time=  11.0s\n",
      "[CV 1/5] END ......C=1, gamma=0.001, kernel=rbf;, score=0.830 total time=  11.5s\n",
      "[CV 2/5] END ......C=1, gamma=0.001, kernel=rbf;, score=0.799 total time=  11.6s\n",
      "[CV 3/5] END ......C=1, gamma=0.001, kernel=rbf;, score=0.758 total time=  11.3s\n",
      "[CV 4/5] END ......C=1, gamma=0.001, kernel=rbf;, score=0.693 total time=  11.0s\n",
      "[CV 5/5] END ......C=1, gamma=0.001, kernel=rbf;, score=0.814 total time=  11.9s\n",
      "[CV 1/5] END ......C=1, gamma=1e-05, kernel=rbf;, score=0.657 total time=  13.4s\n",
      "[CV 2/5] END ......C=1, gamma=1e-05, kernel=rbf;, score=0.657 total time=  13.0s\n",
      "[CV 3/5] END ......C=1, gamma=1e-05, kernel=rbf;, score=0.657 total time=  12.8s\n",
      "[CV 4/5] END ......C=1, gamma=1e-05, kernel=rbf;, score=0.657 total time=  12.5s\n",
      "[CV 5/5] END ......C=1, gamma=1e-05, kernel=rbf;, score=0.657 total time=  12.1s\n",
      "{'C': 10, 'gamma': 0.01, 'kernel': 'rbf'}\n",
      "[5 2 6 1 4 8 3 7 8]\n",
      "1 {'C': 100, 'gamma': 0.01, 'kernel': 'rbf'}\n",
      "2 {'C': 100, 'gamma': 0.001, 'kernel': 'rbf'}\n",
      "3 {'C': 100, 'gamma': 1e-05, 'kernel': 'rbf'}\n",
      "4 {'C': 10, 'gamma': 0.01, 'kernel': 'rbf'}\n",
      "5 {'C': 10, 'gamma': 0.001, 'kernel': 'rbf'}\n",
      "6 {'C': 10, 'gamma': 1e-05, 'kernel': 'rbf'}\n",
      "7 {'C': 1, 'gamma': 0.01, 'kernel': 'rbf'}\n",
      "8 {'C': 1, 'gamma': 0.001, 'kernel': 'rbf'}\n",
      "9 {'C': 1, 'gamma': 1e-05, 'kernel': 'rbf'}\n",
      "Took 0:10:39.821170 seconds\n"
     ]
    }
   ],
   "source": [
    "start_time = time.time()\n",
    "\n",
    "parameters = {'kernel':['rbf'], 'C':[100, 10], 'gamma': [0.1, 0.01, 0.001, 0.00001]}\n",
    "scoring = {'precision': make_scorer(precision_score, average = 'macro')}\n",
    "svc = SVC()\n",
    "clf = GridSearchCV(svc, parameters, scoring = scoring, refit='precision')\n",
    "clf.fit(puts_df.filter(['Delta', 'Theta', 'Rho', 'Vega', 'Gamma'], axis=1), puts_df.filter(['Success'], axis=1).values.ravel())\n",
    "\n",
    "print(clf.best_params_, clf.best_score_)\n",
    "\n",
    "print(f\"Took {datetime.timedelta(seconds=(time.time() - start_time))} seconds\")"
   ]
  },
  {
   "cell_type": "code",
   "execution_count": 87,
   "metadata": {},
   "outputs": [],
   "source": [
    "trainX = calls_df.filter(['Implied Volatility', 'In the Money', 'Days to Expire', 'Needed Percent Change'], axis=1)\n",
    "trainY = calls_df.filter(['Success'], axis=1)\n",
    "\n",
    "testX = options7call_df.filter(['Implied Volatility', 'In the Money', 'Days to Expire', 'Needed Percent Change'], axis=1)\n",
    "testY = options7call_df.filter(['Success'], axis=1)"
   ]
  },
  {
   "cell_type": "code",
   "execution_count": 104,
   "metadata": {},
   "outputs": [
    {
     "data": {
      "image/png": "[encoded data removed]",
      "text/plain": [
       "<Figure size 432x288 with 2 Axes>"
      ]
     },
     "metadata": {},
     "output_type": "display_data"
    },
    {
     "data": {
      "text/html": [
       "<div>\n",
       "<style scoped>\n",
       "    .dataframe tbody tr th:only-of-type {\n",
       "        vertical-align: middle;\n",
       "    }\n",
       "\n",
       "    .dataframe tbody tr th {\n",
       "        vertical-align: top;\n",
       "    }\n",
       "\n",
       "    .dataframe thead th {\n",
       "        text-align: right;\n",
       "    }\n",
       "</style>\n",
       "<table border=\"1\" class=\"dataframe\">\n",
       "  <thead>\n",
       "    <tr style=\"text-align: right;\">\n",
       "      <th></th>\n",
       "      <th>Metric:</th>\n",
       "      <th>Results:</th>\n",
       "    </tr>\n",
       "  </thead>\n",
       "  <tbody>\n",
       "    <tr>\n",
       "      <th>0</th>\n",
       "      <td>Precision</td>\n",
       "      <td>0.727680</td>\n",
       "    </tr>\n",
       "    <tr>\n",
       "      <th>1</th>\n",
       "      <td>Recall</td>\n",
       "      <td>0.801432</td>\n",
       "    </tr>\n",
       "    <tr>\n",
       "      <th>2</th>\n",
       "      <td>F1</td>\n",
       "      <td>0.723496</td>\n",
       "    </tr>\n",
       "    <tr>\n",
       "      <th>3</th>\n",
       "      <td>Accuracy</td>\n",
       "      <td>0.747070</td>\n",
       "    </tr>\n",
       "    <tr>\n",
       "      <th>4</th>\n",
       "      <td>Profitability</td>\n",
       "      <td>-5723.185000</td>\n",
       "    </tr>\n",
       "    <tr>\n",
       "      <th>5</th>\n",
       "      <td>Profit Percent</td>\n",
       "      <td>-11.783795</td>\n",
       "    </tr>\n",
       "  </tbody>\n",
       "</table>\n",
       "</div>"
      ],
      "text/plain": [
       "          Metric:     Results:\n",
       "0       Precision     0.727680\n",
       "1          Recall     0.801432\n",
       "2              F1     0.723496\n",
       "3        Accuracy     0.747070\n",
       "4   Profitability -5723.185000\n",
       "5  Profit Percent   -11.783795"
      ]
     },
     "metadata": {},
     "output_type": "display_data"
    },
    {
     "data": {
      "image/png": "[encoded data removed]",
      "text/plain": [
       "<Figure size 432x288 with 2 Axes>"
      ]
     },
     "metadata": {},
     "output_type": "display_data"
    },
    {
     "name": "stdout",
     "output_type": "stream",
     "text": [
      "Took 0:00:17.913936 seconds\n"
     ]
    }
   ],
   "source": [
    "from sklearn.metrics import precision_recall_fscore_support\n",
    "start_time = time.time()\n",
    "\n",
    "model = SVC(C= 100, kernel='rbf', gamma = 0.00001)\n",
    "model.fit(trainX, trainY.to_numpy().flatten())\n",
    "trainPredict = model.predict(trainX)\n",
    "cfMatrixTrain = confusion_matrix(trainY, trainPredict)\n",
    "ax = sns.heatmap(cfMatrixTrain/np.sum(cfMatrixTrain), annot=True, cmap='Oranges')\n",
    "ax.set(ylabel=\"True Label\", xlabel=\"Predicted Label\")\n",
    "plt.show()\n",
    "\n",
    "testPredict = model.predict(testX)\n",
    "cfMatrixTest = confusion_matrix(testY, testPredict)\n",
    "\n",
    "score = model.score(testX, testY)\n",
    "prec = list(precision_recall_fscore_support(testY, testPredict, average='macro'))\n",
    "prec[-1] = score\n",
    "\n",
    "\n",
    "profitTestX = options7call_df.copy()\n",
    "end = profitTestX.pop('Success')\n",
    "profitTestX.insert(len(profitTestX.columns), \"Success\", end)\n",
    "newColumns = profitTestX.columns\n",
    "\n",
    "profitTestX = options7call_df.reset_index(drop=True).drop('Success', axis=1)\n",
    "X_profitability = pd.concat([profitTestX, pd.DataFrame(testPredict)], axis=1, ignore_index=True)\n",
    "X_profitability.columns = newColumns\n",
    "X_profitability[\"Profit\"] = X_profitability[\"Final Price\"] - X_profitability[\"Breakeven Price\"]\n",
    "profit =  X_profitability.loc[X_profitability['Success'] == 1].Profit.sum()\n",
    "prec.append(profit)\n",
    "\n",
    "\n",
    "profit_percent =  100 * profit / X_profitability.loc[X_profitability['Success'] == 1].Mark.sum()\n",
    "prec.append(profit_percent)\n",
    "display(pd.DataFrame({\"Metric:\": [\"Precision\", \"Recall\", \"F1\", \"Accuracy\", \"Profitability\", \"Profit Percent\"], \"Results:\":prec}))\n",
    "\n",
    "ax = sns.heatmap(cfMatrixTest/np.sum(cfMatrixTest), annot=True, cmap='Blues')\n",
    "ax.set(ylabel=\"True Label\", xlabel=\"Predicted Label\")\n",
    "plt.show()\n",
    "\n",
    "print(f\"Took {datetime.timedelta(seconds=(time.time() - start_time))} seconds\")"
   ]
  },
  {
   "cell_type": "code",
   "execution_count": 106,
   "metadata": {},
   "outputs": [],
   "source": [
    "trainX = puts_df.filter(['Implied Volatility', 'In the Money', 'Days to Expire', 'Needed Percent Change'], axis=1)\n",
    "trainY = puts_df.filter(['Success'], axis=1)\n",
    "\n",
    "testX = options7put_df.filter(['Implied Volatility', 'In the Money', 'Days to Expire', 'Needed Percent Change'], axis=1)\n",
    "testY = options7put_df.filter(['Success'], axis=1)"
   ]
  },
  {
   "cell_type": "code",
   "execution_count": 107,
   "metadata": {},
   "outputs": [
    {
     "data": {
      "image/png": "[encoded data removed]",
      "text/plain": [
       "<Figure size 432x288 with 2 Axes>"
      ]
     },
     "metadata": {},
     "output_type": "display_data"
    },
    {
     "data": {
      "text/html": [
       "<div>\n",
       "<style scoped>\n",
       "    .dataframe tbody tr th:only-of-type {\n",
       "        vertical-align: middle;\n",
       "    }\n",
       "\n",
       "    .dataframe tbody tr th {\n",
       "        vertical-align: top;\n",
       "    }\n",
       "\n",
       "    .dataframe thead th {\n",
       "        text-align: right;\n",
       "    }\n",
       "</style>\n",
       "<table border=\"1\" class=\"dataframe\">\n",
       "  <thead>\n",
       "    <tr style=\"text-align: right;\">\n",
       "      <th></th>\n",
       "      <th>Metric:</th>\n",
       "      <th>Results:</th>\n",
       "    </tr>\n",
       "  </thead>\n",
       "  <tbody>\n",
       "    <tr>\n",
       "      <th>0</th>\n",
       "      <td>Precision</td>\n",
       "      <td>0.787576</td>\n",
       "    </tr>\n",
       "    <tr>\n",
       "      <th>1</th>\n",
       "      <td>Recall</td>\n",
       "      <td>0.710438</td>\n",
       "    </tr>\n",
       "    <tr>\n",
       "      <th>2</th>\n",
       "      <td>F1</td>\n",
       "      <td>0.682615</td>\n",
       "    </tr>\n",
       "    <tr>\n",
       "      <th>3</th>\n",
       "      <td>Accuracy</td>\n",
       "      <td>0.701216</td>\n",
       "    </tr>\n",
       "    <tr>\n",
       "      <th>4</th>\n",
       "      <td>Profitability</td>\n",
       "      <td>58466.960000</td>\n",
       "    </tr>\n",
       "    <tr>\n",
       "      <th>5</th>\n",
       "      <td>Profit Percent</td>\n",
       "      <td>64.506006</td>\n",
       "    </tr>\n",
       "  </tbody>\n",
       "</table>\n",
       "</div>"
      ],
      "text/plain": [
       "          Metric:      Results:\n",
       "0       Precision      0.787576\n",
       "1          Recall      0.710438\n",
       "2              F1      0.682615\n",
       "3        Accuracy      0.701216\n",
       "4   Profitability  58466.960000\n",
       "5  Profit Percent     64.506006"
      ]
     },
     "metadata": {},
     "output_type": "display_data"
    },
    {
     "data": {
      "image/png": "[encoded data removed]",
      "text/plain": [
       "<Figure size 432x288 with 2 Axes>"
      ]
     },
     "metadata": {},
     "output_type": "display_data"
    },
    {
     "name": "stdout",
     "output_type": "stream",
     "text": [
      "Took 0:01:05.416888 seconds\n"
     ]
    }
   ],
   "source": [
    "start_time = time.time()\n",
    "\n",
    "model = SVC(C= 100, kernel='rbf', gamma = 0.00001)\n",
    "model.fit(trainX, trainY.to_numpy().flatten())\n",
    "trainPredict = model.predict(trainX)\n",
    "cfMatrixTrain = confusion_matrix(trainY, trainPredict)\n",
    "ax = sns.heatmap(cfMatrixTrain/np.sum(cfMatrixTrain), annot=True, cmap='Oranges')\n",
    "ax.set(ylabel=\"True Label\", xlabel=\"Predicted Label\")\n",
    "plt.show()\n",
    "\n",
    "testPredict = model.predict(testX)\n",
    "cfMatrixTest = confusion_matrix(testY, testPredict)\n",
    "\n",
    "score = model.score(testX, testY)\n",
    "prec = list(precision_recall_fscore_support(testY, testPredict, average='macro'))\n",
    "prec[-1] = score\n",
    "\n",
    "\n",
    "profitTestX = options7put_df.copy()\n",
    "end = profitTestX.pop('Success')\n",
    "profitTestX.insert(len(profitTestX.columns), \"Success\", end)\n",
    "newColumns = profitTestX.columns\n",
    "\n",
    "profitTestX = options7put_df.reset_index(drop=True).drop('Success', axis=1)\n",
    "X_profitability = pd.concat([profitTestX, pd.DataFrame(testPredict)], axis=1, ignore_index=True)\n",
    "X_profitability.columns = newColumns\n",
    "X_profitability[\"Profit\"] = X_profitability[\"Breakeven Price\"] - X_profitability[\"Final Price\"]\n",
    "profit =  X_profitability.loc[X_profitability['Success'] == 1].Profit.sum()\n",
    "prec.append(profit)\n",
    "\n",
    "\n",
    "profit_percent =  100 * profit / X_profitability.loc[X_profitability['Success'] == 1].Mark.sum()\n",
    "prec.append(profit_percent)\n",
    "display(pd.DataFrame({\"Metric:\": [\"Precision\", \"Recall\", \"F1\", \"Accuracy\", \"Profitability\", \"Profit Percent\"], \"Results:\":prec}))\n",
    "\n",
    "ax = sns.heatmap(cfMatrixTest/np.sum(cfMatrixTest), annot=True, cmap='Blues')\n",
    "ax.set(ylabel=\"True Label\", xlabel=\"Predicted Label\")\n",
    "plt.show()\n",
    "\n",
    "print(f\"Took {datetime.timedelta(seconds=(time.time() - start_time))} seconds\")"
   ]
  },
  {
   "cell_type": "code",
   "execution_count": 149,
   "metadata": {},
   "outputs": [],
   "source": [
    "trainX = calls_df.filter(['Delta', 'Theta', 'Rho', 'Vega', 'Gamma'], axis=1)\n",
    "trainY = calls_df.filter(['Success'], axis=1)\n",
    "\n",
    "testX = options7call_df.filter(['Delta', 'Theta', 'Rho', 'Vega', 'Gamma'], axis=1)\n",
    "testY = options7call_df.filter(['Success'], axis=1)"
   ]
  },
  {
   "cell_type": "code",
   "execution_count": 150,
   "metadata": {},
   "outputs": [
    {
     "data": {
      "image/png": "[encoded data removed]",
      "text/plain": [
       "<Figure size 432x288 with 2 Axes>"
      ]
     },
     "metadata": {},
     "output_type": "display_data"
    },
    {
     "data": {
      "text/html": [
       "<div>\n",
       "<style scoped>\n",
       "    .dataframe tbody tr th:only-of-type {\n",
       "        vertical-align: middle;\n",
       "    }\n",
       "\n",
       "    .dataframe tbody tr th {\n",
       "        vertical-align: top;\n",
       "    }\n",
       "\n",
       "    .dataframe thead th {\n",
       "        text-align: right;\n",
       "    }\n",
       "</style>\n",
       "<table border=\"1\" class=\"dataframe\">\n",
       "  <thead>\n",
       "    <tr style=\"text-align: right;\">\n",
       "      <th></th>\n",
       "      <th>Metric:</th>\n",
       "      <th>Results:</th>\n",
       "    </tr>\n",
       "  </thead>\n",
       "  <tbody>\n",
       "    <tr>\n",
       "      <th>0</th>\n",
       "      <td>Precision</td>\n",
       "      <td>0.757566</td>\n",
       "    </tr>\n",
       "    <tr>\n",
       "      <th>1</th>\n",
       "      <td>Recall</td>\n",
       "      <td>0.824870</td>\n",
       "    </tr>\n",
       "    <tr>\n",
       "      <th>2</th>\n",
       "      <td>F1</td>\n",
       "      <td>0.771054</td>\n",
       "    </tr>\n",
       "    <tr>\n",
       "      <th>3</th>\n",
       "      <td>Accuracy</td>\n",
       "      <td>0.801758</td>\n",
       "    </tr>\n",
       "    <tr>\n",
       "      <th>4</th>\n",
       "      <td>Profitability</td>\n",
       "      <td>-1266.875000</td>\n",
       "    </tr>\n",
       "    <tr>\n",
       "      <th>5</th>\n",
       "      <td>Profit Percent</td>\n",
       "      <td>-2.735237</td>\n",
       "    </tr>\n",
       "  </tbody>\n",
       "</table>\n",
       "</div>"
      ],
      "text/plain": [
       "          Metric:     Results:\n",
       "0       Precision     0.757566\n",
       "1          Recall     0.824870\n",
       "2              F1     0.771054\n",
       "3        Accuracy     0.801758\n",
       "4   Profitability -1266.875000\n",
       "5  Profit Percent    -2.735237"
      ]
     },
     "metadata": {},
     "output_type": "display_data"
    },
    {
     "data": {
      "image/png": "[encoded data removed]",
      "text/plain": [
       "<Figure size 432x288 with 2 Axes>"
      ]
     },
     "metadata": {},
     "output_type": "display_data"
    },
    {
     "name": "stdout",
     "output_type": "stream",
     "text": [
      "Took 0:00:25.749438 seconds\n"
     ]
    }
   ],
   "source": [
    "start_time = time.time()\n",
    "\n",
    "model = SVC(C= 100, kernel='rbf', gamma = 0.00001)\n",
    "model.fit(trainX, trainY.to_numpy().flatten())\n",
    "trainPredict = model.predict(trainX)\n",
    "cfMatrixTrain = confusion_matrix(trainY, trainPredict)\n",
    "ax = sns.heatmap(cfMatrixTrain/np.sum(cfMatrixTrain), annot=True, cmap='Oranges')\n",
    "ax.set(ylabel=\"True Label\", xlabel=\"Predicted Label\")\n",
    "plt.show()\n",
    "\n",
    "testPredict = model.predict(testX)\n",
    "cfMatrixTest = confusion_matrix(testY, testPredict)\n",
    "\n",
    "score = model.score(testX, testY)\n",
    "prec = list(precision_recall_fscore_support(testY, testPredict, average='macro'))\n",
    "prec[-1] = score\n",
    "\n",
    "\n",
    "profitTestX = options7call_df.copy()\n",
    "end = profitTestX.pop('Success')\n",
    "profitTestX.insert(len(profitTestX.columns), \"Success\", end)\n",
    "newColumns = profitTestX.columns\n",
    "\n",
    "profitTestX = options7call_df.reset_index(drop=True).drop('Success', axis=1)\n",
    "X_profitability = pd.concat([profitTestX, pd.DataFrame(testPredict)], axis=1, ignore_index=True)\n",
    "X_profitability.columns = newColumns\n",
    "X_profitability[\"Profit\"] = X_profitability[\"Final Price\"] - X_profitability[\"Breakeven Price\"]\n",
    "profit =  X_profitability.loc[X_profitability['Success'] == 1].Profit.sum()\n",
    "prec.append(profit)\n",
    "\n",
    "\n",
    "profit_percent =  100 * profit / X_profitability.loc[X_profitability['Success'] == 1].Mark.sum()\n",
    "prec.append(profit_percent)\n",
    "display(pd.DataFrame({\"Metric:\": [\"Precision\", \"Recall\", \"F1\", \"Accuracy\", \"Profitability\", \"Profit Percent\"], \"Results:\":prec}))\n",
    "\n",
    "ax = sns.heatmap(cfMatrixTest/np.sum(cfMatrixTest), annot=True, cmap='Blues')\n",
    "ax.set(ylabel=\"True Label\", xlabel=\"Predicted Label\")\n",
    "plt.show()\n",
    "\n",
    "print(f\"Took {datetime.timedelta(seconds=(time.time() - start_time))} seconds\")"
   ]
  },
  {
   "cell_type": "code",
   "execution_count": 142,
   "metadata": {},
   "outputs": [],
   "source": [
    "trainX = puts_df.filter(['Delta', 'Theta', 'Rho', 'Vega', 'Gamma'], axis=1)\n",
    "trainY = puts_df.filter(['Success'], axis=1)\n",
    "\n",
    "testX = options7put_df.filter(['Delta', 'Theta', 'Rho', 'Vega', 'Gamma'], axis=1)\n",
    "testY = options7put_df.filter(['Success'], axis=1)"
   ]
  },
  {
   "cell_type": "code",
   "execution_count": 143,
   "metadata": {},
   "outputs": [
    {
     "data": {
      "image/png": "[encoded data removed]",
      "text/plain": [
       "<Figure size 432x288 with 2 Axes>"
      ]
     },
     "metadata": {},
     "output_type": "display_data"
    },
    {
     "data": {
      "text/html": [
       "<div>\n",
       "<style scoped>\n",
       "    .dataframe tbody tr th:only-of-type {\n",
       "        vertical-align: middle;\n",
       "    }\n",
       "\n",
       "    .dataframe tbody tr th {\n",
       "        vertical-align: top;\n",
       "    }\n",
       "\n",
       "    .dataframe thead th {\n",
       "        text-align: right;\n",
       "    }\n",
       "</style>\n",
       "<table border=\"1\" class=\"dataframe\">\n",
       "  <thead>\n",
       "    <tr style=\"text-align: right;\">\n",
       "      <th></th>\n",
       "      <th>Metric:</th>\n",
       "      <th>Results:</th>\n",
       "    </tr>\n",
       "  </thead>\n",
       "  <tbody>\n",
       "    <tr>\n",
       "      <th>0</th>\n",
       "      <td>Precision</td>\n",
       "      <td>0.811998</td>\n",
       "    </tr>\n",
       "    <tr>\n",
       "      <th>1</th>\n",
       "      <td>Recall</td>\n",
       "      <td>0.776423</td>\n",
       "    </tr>\n",
       "    <tr>\n",
       "      <th>2</th>\n",
       "      <td>F1</td>\n",
       "      <td>0.764768</td>\n",
       "    </tr>\n",
       "    <tr>\n",
       "      <th>3</th>\n",
       "      <td>Accuracy</td>\n",
       "      <td>0.770226</td>\n",
       "    </tr>\n",
       "    <tr>\n",
       "      <th>4</th>\n",
       "      <td>Profitability</td>\n",
       "      <td>99117.375000</td>\n",
       "    </tr>\n",
       "    <tr>\n",
       "      <th>5</th>\n",
       "      <td>Profit Percent</td>\n",
       "      <td>58.430326</td>\n",
       "    </tr>\n",
       "  </tbody>\n",
       "</table>\n",
       "</div>"
      ],
      "text/plain": [
       "          Metric:      Results:\n",
       "0       Precision      0.811998\n",
       "1          Recall      0.776423\n",
       "2              F1      0.764768\n",
       "3        Accuracy      0.770226\n",
       "4   Profitability  99117.375000\n",
       "5  Profit Percent     58.430326"
      ]
     },
     "metadata": {},
     "output_type": "display_data"
    },
    {
     "data": {
      "image/png": "[encoded data removed]",
      "text/plain": [
       "<Figure size 432x288 with 2 Axes>"
      ]
     },
     "metadata": {},
     "output_type": "display_data"
    },
    {
     "name": "stdout",
     "output_type": "stream",
     "text": [
      "Took 0:01:05.329132 seconds\n"
     ]
    }
   ],
   "source": [
    "start_time = time.time()\n",
    "\n",
    "model = SVC(C= 10, kernel='rbf', gamma = 0.001)\n",
    "model.fit(trainX, trainY.to_numpy().flatten())\n",
    "trainPredict = model.predict(trainX)\n",
    "cfMatrixTrain = confusion_matrix(trainY, trainPredict)\n",
    "ax = sns.heatmap(cfMatrixTrain/np.sum(cfMatrixTrain), annot=True, cmap='Oranges')\n",
    "ax.set(ylabel=\"True Label\", xlabel=\"Predicted Label\")\n",
    "plt.show()\n",
    "\n",
    "testPredict = model.predict(testX)\n",
    "cfMatrixTest = confusion_matrix(testY, testPredict)\n",
    "\n",
    "score = model.score(testX, testY)\n",
    "prec = list(precision_recall_fscore_support(testY, testPredict, average='macro'))\n",
    "prec[-1] = score\n",
    "\n",
    "\n",
    "profitTestX = options7put_df.copy()\n",
    "end = profitTestX.pop('Success')\n",
    "profitTestX.insert(len(profitTestX.columns), \"Success\", end)\n",
    "newColumns = profitTestX.columns\n",
    "\n",
    "profitTestX = options7put_df.reset_index(drop=True).drop('Success', axis=1)\n",
    "X_profitability = pd.concat([profitTestX, pd.DataFrame(testPredict)], axis=1, ignore_index=True)\n",
    "X_profitability.columns = newColumns\n",
    "X_profitability[\"Profit\"] = X_profitability[\"Breakeven Price\"] - X_profitability[\"Final Price\"]\n",
    "profit =  X_profitability.loc[X_profitability['Success'] == 1].Profit.sum()\n",
    "prec.append(profit)\n",
    "\n",
    "\n",
    "profit_percent =  100 * profit / X_profitability.loc[X_profitability['Success'] == 1].Mark.sum()\n",
    "prec.append(profit_percent)\n",
    "display(pd.DataFrame({\"Metric:\": [\"Precision\", \"Recall\", \"F1\", \"Accuracy\", \"Profitability\", \"Profit Percent\"], \"Results:\":prec}))\n",
    "\n",
    "ax = sns.heatmap(cfMatrixTest/np.sum(cfMatrixTest), annot=True, cmap='Blues')\n",
    "ax.set(ylabel=\"True Label\", xlabel=\"Predicted Label\")\n",
    "plt.show()\n",
    "\n",
    "print(f\"Took {datetime.timedelta(seconds=(time.time() - start_time))} seconds\")"
   ]
  }
 ],
 "metadata": {
  "kernelspec": {
   "display_name": "Python 3",
   "language": "python",
   "name": "python3"
  },
  "language_info": {
   "codemirror_mode": {
    "name": "ipython",
    "version": 3
   },
   "file_extension": ".py",
   "mimetype": "text/x-python",
   "name": "python",
   "nbconvert_exporter": "python",
   "pygments_lexer": "ipython3",
   "version": "3.8.8"
  }
 },
 "nbformat": 4,
 "nbformat_minor": 4
}
