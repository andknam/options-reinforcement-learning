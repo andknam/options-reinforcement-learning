{
 "cells": [
  {
   "cell_type": "code",
   "execution_count": 3,
   "id": "5b29ca73",
   "metadata": {},
   "outputs": [
    {
     "name": "stdout",
     "output_type": "stream",
     "text": [
      "Requirement already satisfied: gym in d:\\program_files\\anaconda\\lib\\site-packages (0.23.1)\n",
      "Requirement already satisfied: importlib-metadata>=4.10.0 in d:\\program_files\\anaconda\\lib\\site-packages (from gym) (4.11.3)\n",
      "Requirement already satisfied: numpy>=1.18.0 in d:\\program_files\\anaconda\\lib\\site-packages (from gym) (1.20.1)\n",
      "Requirement already satisfied: gym-notices>=0.0.4 in d:\\program_files\\anaconda\\lib\\site-packages (from gym) (0.0.6)\n",
      "Requirement already satisfied: cloudpickle>=1.2.0 in d:\\program_files\\anaconda\\lib\\site-packages (from gym) (1.6.0)\n",
      "Requirement already satisfied: zipp>=0.5 in d:\\program_files\\anaconda\\lib\\site-packages (from importlib-metadata>=4.10.0->gym) (3.4.1)\n"
     ]
    }
   ],
   "source": [
    "import numpy as np \n",
    "import os \n",
    "import pandas as pd \n",
    "import sys\n",
    "!{sys.executable} -m pip install gym"
   ]
  },
  {
   "cell_type": "code",
   "execution_count": 5,
   "id": "2731d2f5",
   "metadata": {},
   "outputs": [
    {
     "name": "stdout",
     "output_type": "stream",
     "text": [
      "      OptionType              Time   Sym  Expiration  Strike  StockPrice  \\\n",
      "0           call  09:30:00.0000000  TWLO  08/09-19 W   133.0      129.94   \n",
      "1           call  09:35:00.0000000    MT     12-19 M    14.0       13.82   \n",
      "2            put  09:40:00.0000000   SMH  08/09-19 W   112.5      112.50   \n",
      "3           call  09:41:00.0000000   TME     09-19 M    15.0       14.37   \n",
      "4           call  09:43:00.0000000   GLD     08-19 M   146.0      141.01   \n",
      "...          ...               ...   ...         ...     ...         ...   \n",
      "62790       call  14:39:54.0000000    SQ     11-17 M    40.5       40.09   \n",
      "62791       call  14:44:18.0000000  DWDP     12-17 M    72.5       70.62   \n",
      "62792        put  14:44:20.0000000  SWCH     11-17 M    18.0       19.85   \n",
      "62793       call  14:58:59.0000000   CZR     11-17 M    12.5       12.42   \n",
      "62794       call  14:59:39.0000000   COT     02-18 M    17.5       16.32   \n",
      "\n",
      "             Date   Spent                       Sector ExpirationDate  \\\n",
      "0      2019-08-09   35000                   Technology     2019-08-09   \n",
      "1      2019-08-09   77000              Basic Materials     2019-12-20   \n",
      "2      2019-08-09   72000                          ETF     2019-08-09   \n",
      "3      2019-08-09   50000            Telecommunication     2019-09-20   \n",
      "4      2019-08-09   23000                          ETF     2019-08-16   \n",
      "...           ...     ...                          ...            ...   \n",
      "62790  2017-11-13  103000                   Technology     2017-11-17   \n",
      "62791  2017-11-13  102000  Non-Cyclical Consumer Goods     2017-12-15   \n",
      "62792  2017-11-13   33000                   Technology     2017-11-17   \n",
      "62793  2017-11-13   16000      Cyclical Consumer Goods     2017-11-17   \n",
      "62794  2017-11-13   59000  Non-Cyclical Consumer Goods     2018-02-16   \n",
      "\n",
      "      ChainLocation  \n",
      "0               OTM  \n",
      "1               OTM  \n",
      "2               ATM  \n",
      "3               OTM  \n",
      "4               OTM  \n",
      "...             ...  \n",
      "62790           OTM  \n",
      "62791           OTM  \n",
      "62792           OTM  \n",
      "62793           OTM  \n",
      "62794           OTM  \n",
      "\n",
      "[62795 rows x 11 columns]\n"
     ]
    }
   ],
   "source": [
    "options_df = pd.read_csv('data/optionsTradeData.csv', delimiter=',')\n",
    "print(options_df)\n",
    "\n",
    "NUM_COLS = 1 # TODO: identify which features we are using"
   ]
  },
  {
   "cell_type": "code",
   "execution_count": 8,
   "id": "75e00f5d",
   "metadata": {},
   "outputs": [
    {
     "name": "stderr",
     "output_type": "stream",
     "text": [
      "D:\\Program_Files\\anaconda\\lib\\site-packages\\ipykernel\\ipkernel.py:287: DeprecationWarning: `should_run_async` will not call `transform_cell` automatically in the future. Please pass the result to `transformed_cell` argument and any exception that happen during thetransform in `preprocessing_exc_tuple` in IPython 7.17 and above.\n",
      "  and should_run_async(code)\n"
     ]
    }
   ],
   "source": [
    "import gym\n",
    "from gym import Env, spaces\n",
    "\n",
    "class OptionsTrainingEnv(Env):\n",
    "    def __init__(self, df):\n",
    "        super(OptionsTrainingEnv, self).__init__()\n",
    "        \n",
    "        self.observation_space = spaces.Box(low = -1, \n",
    "                                            high = 1)\n",
    "    \n",
    "        self.action_space = spaces.Discrete(shape = NUM_COLS)\n",
    "                        \n",
    "        self.options_data = df\n",
    "        \n",
    "def step(self, action):\n",
    "    return observation, reward, done, info\n",
    "def reset(self):\n",
    "    return observation \n",
    "def render(self, mode='human'):\n",
    "    return \n",
    "def close (self):\n",
    "    return"
   ]
  },
  {
   "cell_type": "code",
   "execution_count": null,
   "id": "aa54fe1f",
   "metadata": {},
   "outputs": [],
   "source": []
  }
 ],
 "metadata": {
  "kernelspec": {
   "display_name": "Python 3",
   "language": "python",
   "name": "python3"
  },
  "language_info": {
   "codemirror_mode": {
    "name": "ipython",
    "version": 3
   },
   "file_extension": ".py",
   "mimetype": "text/x-python",
   "name": "python",
   "nbconvert_exporter": "python",
   "pygments_lexer": "ipython3",
   "version": "3.8.8"
  }
 },
 "nbformat": 4,
 "nbformat_minor": 5
}
